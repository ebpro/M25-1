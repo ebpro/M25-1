{
 "cells": [
  {
   "cell_type": "code",
   "execution_count": 1,
   "metadata": {},
   "outputs": [
    {
     "data": {
      "application/javascript": [
       "IPython.notebook.set_autosave_interval(300000)"
      ]
     },
     "metadata": {},
     "output_type": "display_data"
    },
    {
     "name": "stdout",
     "output_type": "stream",
     "text": [
      "Autosaving every 300 seconds\n"
     ]
    }
   ],
   "source": [
    "%reset -f\n",
    "%matplotlib inline\n",
    "%autosave 300\n",
    "#import sys #only needed to determine Python version number\n",
    "#import matplotlib #only needed to determine Matplotlib version number\n",
    "\n",
    "#print('Python version ' + sys.version)\n",
    "#print('Matplotlib version ' + matplotlib.__version__)\n",
    "from math import *\n",
    "from matplotlib.pylab import *"
   ]
  },
  {
   "cell_type": "markdown",
   "metadata": {},
   "source": [
    "Nous allons comparer une fonction $f$ de $\\mathbb R$ dans $\\mathbb R$ avec son développement limité (un polynôme!) en un point à différents ordres. Nous devons d'abord définir la fonction $f$ puis définir de façon automatique une approximation des développements limités à l'aide d'approximations des dérivées en un point."
   ]
  },
  {
   "cell_type": "markdown",
   "metadata": {},
   "source": [
    "# Construction d'une fonction et de son graphe"
   ]
  },
  {
   "cell_type": "markdown",
   "metadata": {},
   "source": [
    "Définir la fonction $f$ telle que $f(x)=\\sin(x^2)$ puis évaluer et afficher $f(1)$."
   ]
  },
  {
   "cell_type": "code",
   "execution_count": null,
   "metadata": {},
   "outputs": [],
   "source": []
  },
  {
   "cell_type": "markdown",
   "metadata": {},
   "source": [
    "Dessiner la fonction sur l'intervalle $[-3,3]$ à l'aide de $500$ points de discrétisation."
   ]
  },
  {
   "cell_type": "code",
   "execution_count": null,
   "metadata": {},
   "outputs": [],
   "source": []
  },
  {
   "cell_type": "markdown",
   "metadata": {},
   "source": [
    "# Calcul de la dérivée approchée en un point"
   ]
  },
  {
   "cell_type": "markdown",
   "metadata": {},
   "source": [
    "On va calculer, à partir de la définition du nombre dérivée $$f^\\prime(x_0)=\\lim_{h\\to 0} \\frac {f(x_0+h)-f(x_0)}{h},$$ une approximation de $f^\\prime(x_0)$ en évaluant le taux d'accroissement pour $h$ \"petit\". \n",
    "Proposer une fonction \"fprime\" qui approche la dérivée. Tracer ensuite le graphe de la dérivée sur $[-3,3]$."
   ]
  },
  {
   "cell_type": "code",
   "execution_count": null,
   "metadata": {},
   "outputs": [],
   "source": []
  },
  {
   "cell_type": "code",
   "execution_count": null,
   "metadata": {},
   "outputs": [],
   "source": []
  },
  {
   "cell_type": "markdown",
   "metadata": {},
   "source": [
    "Montrer que pour une fonction $f$ régulière l'approximation suivante, pour $h$ petit\n",
    "$$\n",
    "f'(x_0)\\sim \\frac {f(x_0+h)-f(x_0-h)}{2h},$$\n",
    "est plus précise que l'approximation construite par \n",
    "$$\n",
    "f'(x_0)\\sim \\frac {f(x_0+h)-f(x_0)}{h}.\n",
    "$$"
   ]
  },
  {
   "cell_type": "markdown",
   "metadata": {},
   "source": [
    "Définir la fonction \"fprimebis\" construite sur l'approximation plus précise. Comparer leur évaluation en un même point. "
   ]
  },
  {
   "cell_type": "code",
   "execution_count": null,
   "metadata": {},
   "outputs": [],
   "source": []
  },
  {
   "cell_type": "code",
   "execution_count": null,
   "metadata": {},
   "outputs": [],
   "source": []
  },
  {
   "cell_type": "markdown",
   "metadata": {},
   "source": [
    "Comparer sur un graphe, la fonction analytique $f'$ calculée à la main (exacte), la fonction \"fprime\" et la fonction \"frimebis\". Pour observer des différences, modifiez la taille du pas $h$ en le choisissant plus gros ($h=10^{-1}$ par exemple)."
   ]
  },
  {
   "cell_type": "markdown",
   "metadata": {},
   "source": [
    "# Calcul de la dérivée seconde approchée en un point"
   ]
  },
  {
   "cell_type": "markdown",
   "metadata": {},
   "source": [
    "Montrer que pour $f$ régulière de $\\mathbb R$ dans  $\\mathbb R$,\n",
    "$$\n",
    "f^{\\prime \\prime}(x_0) =\\lim_{h\\to 0} \\frac {f(x_0+h)-2f(x_0)+f(x_0-h)}{h^2}.\n",
    "$$"
   ]
  },
  {
   "cell_type": "markdown",
   "metadata": {},
   "source": [
    "Construire alors la fonction approchée du calcul de la dérivée seconde et représenter le graphe de $f''$ sur $[2,3]$."
   ]
  },
  {
   "cell_type": "code",
   "execution_count": null,
   "metadata": {},
   "outputs": [],
   "source": []
  },
  {
   "cell_type": "code",
   "execution_count": null,
   "metadata": {},
   "outputs": [],
   "source": []
  },
  {
   "cell_type": "markdown",
   "metadata": {},
   "source": [
    "Nous allons comparer, au voisinage de $1$ (on choisira l'intervalle $\\left[\\frac 1 2,\\frac 3 2\\right]$), la fonction $f$ ainsi que sa tangente et sa parabole approchante (celle construite sur le développement limité à l'ordre $2$).\n",
    "\n",
    "On notera \"tang\" le tableau de l'évaluation de l'ordonnée de la tangente au graphe de $f$ au point $1$ pour les points equirépartis de $\\frac 1 2$ à $\\frac 3 2$ du tableau \"x1\".\n",
    "On notera de même \"parab\" le tableau de l'évaluation de l'ordonnée de la parabole approchante au point $1$.\n",
    "Tracer alors le graphe des trois fonctions sur $\\left[\\frac 1 2,\\frac 3 2\\right]$. Refaire ces graphes sur $[0.9,1.1]$."
   ]
  },
  {
   "cell_type": "code",
   "execution_count": null,
   "metadata": {},
   "outputs": [],
   "source": []
  },
  {
   "cell_type": "code",
   "execution_count": null,
   "metadata": {},
   "outputs": [],
   "source": [
    "\n"
   ]
  },
  {
   "cell_type": "markdown",
   "metadata": {},
   "source": [
    "# Interpolation de Lagrange\n",
    "Nous allons proposer maintenant de nouvelles \n",
    "approximations polynômiales qui ne s'appuient pas sur le développement limité de la fonction. Nous allons introduire l'interpolation de Lagrange qui consiste à construire l'unique polynôme $p$ de $\\mathbb R^{k}[x]$ qui satisfait $p(x_\\ell)=f(x_\\ell)$ pour tous les points $x_0<x_1<\\cdot\\cdot<x_k$ (c'est-à-dire pour $\\ell$ variant de $0$ à $k$).  \n",
    "Par exemple, par 2 points du plan passe une unique droite, par 3 points (d'abscisses distinctes) passe une unique parabole...  \n",
    "\n",
    "Le premier objectif est de définir la fonction d'interpolation affine paramétrée par l'abscisse $x$ et les coordonnées des 2 points d'interpolation.  \n",
    "Il convient alors de faire de même pour l'interpolation parabolique à 3 points. Tracer, sur $[-3,3]$ le graphe de la fonction affine et les deux points d'interpolation. La justification des formules d'interpolation devra être rédigée."
   ]
  },
  {
   "cell_type": "code",
   "execution_count": 2,
   "metadata": {},
   "outputs": [],
   "source": [
    "def affine(x,xtab,ytab):\n",
    "    return (x-xtab[0])*(ytab[1]-ytab[0])/(xtab[1]-xtab[0])+ytab[0]"
   ]
  },
  {
   "cell_type": "code",
   "execution_count": 3,
   "metadata": {},
   "outputs": [
    {
     "data": {
      "text/plain": [
       "2.0"
      ]
     },
     "execution_count": 3,
     "metadata": {},
     "output_type": "execute_result"
    }
   ],
   "source": [
    "affine(0,[0,2],[2,3])"
   ]
  },
  {
   "cell_type": "code",
   "execution_count": null,
   "metadata": {},
   "outputs": [],
   "source": []
  },
  {
   "cell_type": "code",
   "execution_count": null,
   "metadata": {},
   "outputs": [],
   "source": []
  },
  {
   "cell_type": "markdown",
   "metadata": {},
   "source": [
    "Proposer la construction d'une fonction qui construit l'interpolation de Lagrange pour deux tableaux de points d'interpolations (de même taille quelconque supèrieure à $2$). (Question difficile, fonction définie de façon récursive)."
   ]
  },
  {
   "cell_type": "code",
   "execution_count": null,
   "metadata": {},
   "outputs": [],
   "source": []
  }
 ],
 "metadata": {
  "kernelspec": {
   "display_name": "Python 3",
   "language": "python",
   "name": "python3"
  },
  "language_info": {
   "codemirror_mode": {
    "name": "ipython",
    "version": 3
   },
   "file_extension": ".py",
   "mimetype": "text/x-python",
   "name": "python",
   "nbconvert_exporter": "python",
   "pygments_lexer": "ipython3",
   "version": "3.6.4"
  },
  "toc": {
   "base_numbering": 1,
   "nav_menu": {},
   "number_sections": true,
   "sideBar": true,
   "skip_h1_title": false,
   "title_cell": "Table of Contents",
   "title_sidebar": "Contents",
   "toc_cell": false,
   "toc_position": {},
   "toc_section_display": true,
   "toc_window_display": false
  }
 },
 "nbformat": 4,
 "nbformat_minor": 2
}
